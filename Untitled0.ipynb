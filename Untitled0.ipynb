{
  "nbformat": 4,
  "nbformat_minor": 0,
  "metadata": {
    "colab": {
      "name": "Untitled0.ipynb",
      "provenance": [],
      "authorship_tag": "ABX9TyPpYVPKHptMo9dNist2ZfSz",
      "include_colab_link": true
    },
    "kernelspec": {
      "name": "python3",
      "display_name": "Python 3"
    }
  },
  "cells": [
    {
      "cell_type": "markdown",
      "metadata": {
        "id": "view-in-github",
        "colab_type": "text"
      },
      "source": [
        "<a href=\"https://colab.research.google.com/github/prexadedia/Amazon-inventory/blob/main/Untitled0.ipynb\" target=\"_parent\"><img src=\"https://colab.research.google.com/assets/colab-badge.svg\" alt=\"Open In Colab\"/></a>"
      ]
    },
    {
      "cell_type": "code",
      "metadata": {
        "colab": {
          "base_uri": "https://localhost:8080/",
          "height": 482
        },
        "id": "w_lfMQYcTbM9",
        "outputId": "e0d1f426-6493-4a35-eee9-334812575eae"
      },
      "source": [
        "import pandas as pd\r\n",
        "\r\n",
        "data_transform=pd.read_csv('/content/TEEMA raw data.csv', usecols = ['user_id', 'pipeline_id', 'chapter_id', \r\n",
        "'parts.0.mc.0.mc_questions.0.mc_option', 'parts.0.mc.0.mc_questions.1.mc_option', \r\n",
        "'parts.0.mc.0.mc_questions.2.mc_option', 'parts.0.mc.0.mc_questions.3.mc_option', \r\n",
        "'parts.0.mc.0.mc_id', 'parts.1.mc.0.mc_questions.0.mc_option', \r\n",
        "'parts.1.mc.0.mc_questions.1.mc_option', 'parts.1.mc.0.mc_questions.2.mc_option',\r\n",
        " 'parts.1.mc.0.mc_questions.3.mc_option', 'parts.1.mc.0.mc_id', \r\n",
        " 'parts.3.mc.0.mc_questions.0.mc_option', 'parts.3.mc.0.mc_questions.1.mc_option',\r\n",
        "  'parts.3.mc.0.mc_questions.2.mc_option', 'parts.3.mc.0.mc_questions.3.mc_option', \r\n",
        "  'parts.3.mc.0.mc_id'])\r\n",
        "data_transform.head()"
      ],
      "execution_count": 10,
      "outputs": [
        {
          "output_type": "execute_result",
          "data": {
            "text/html": [
              "<div>\n",
              "<style scoped>\n",
              "    .dataframe tbody tr th:only-of-type {\n",
              "        vertical-align: middle;\n",
              "    }\n",
              "\n",
              "    .dataframe tbody tr th {\n",
              "        vertical-align: top;\n",
              "    }\n",
              "\n",
              "    .dataframe thead th {\n",
              "        text-align: right;\n",
              "    }\n",
              "</style>\n",
              "<table border=\"1\" class=\"dataframe\">\n",
              "  <thead>\n",
              "    <tr style=\"text-align: right;\">\n",
              "      <th></th>\n",
              "      <th>chapter_id</th>\n",
              "      <th>user_id</th>\n",
              "      <th>parts.0.mc.0.mc_questions.0.mc_option</th>\n",
              "      <th>parts.0.mc.0.mc_questions.1.mc_option</th>\n",
              "      <th>parts.0.mc.0.mc_questions.2.mc_option</th>\n",
              "      <th>parts.0.mc.0.mc_questions.3.mc_option</th>\n",
              "      <th>parts.0.mc.0.mc_id</th>\n",
              "      <th>parts.1.mc.0.mc_questions.0.mc_option</th>\n",
              "      <th>parts.1.mc.0.mc_questions.1.mc_option</th>\n",
              "      <th>parts.1.mc.0.mc_questions.2.mc_option</th>\n",
              "      <th>parts.1.mc.0.mc_questions.3.mc_option</th>\n",
              "      <th>parts.1.mc.0.mc_id</th>\n",
              "      <th>parts.3.mc.0.mc_questions.0.mc_option</th>\n",
              "      <th>parts.3.mc.0.mc_questions.1.mc_option</th>\n",
              "      <th>parts.3.mc.0.mc_questions.2.mc_option</th>\n",
              "      <th>parts.3.mc.0.mc_questions.3.mc_option</th>\n",
              "      <th>parts.3.mc.0.mc_id</th>\n",
              "      <th>pipeline_id</th>\n",
              "    </tr>\n",
              "  </thead>\n",
              "  <tbody>\n",
              "    <tr>\n",
              "      <th>0</th>\n",
              "      <td>5fef92f1fac0260017bd081c</td>\n",
              "      <td>384df770-50f7-11eb-a592-e7db0235bcc5</td>\n",
              "      <td>Take the time to implement the new strategy as...</td>\n",
              "      <td>Disregard this thought as you prefer to follow...</td>\n",
              "      <td>Wait for your scheduled check in with your tea...</td>\n",
              "      <td>Disregard this thought as you are already half...</td>\n",
              "      <td>GO_CI_1_1</td>\n",
              "      <td>Express your satisfaction to the team and move...</td>\n",
              "      <td>Raise your questions about the product directi...</td>\n",
              "      <td>Ask the person beside you for the rationale fo...</td>\n",
              "      <td>Write down questions about the proposed produc...</td>\n",
              "      <td>GO_CI_1_2</td>\n",
              "      <td>Ask your teammate to help co-deliver the prese...</td>\n",
              "      <td>Go forward with the presentation and ask your ...</td>\n",
              "      <td>Postpone the presentation as it is better to d...</td>\n",
              "      <td>Present your slides and book a slot in your te...</td>\n",
              "      <td>GO_CI_1_3</td>\n",
              "      <td>5ff36bef033d7e0ed95194e7</td>\n",
              "    </tr>\n",
              "    <tr>\n",
              "      <th>1</th>\n",
              "      <td>5fef94249b2a7b0017773f89</td>\n",
              "      <td>384df770-50f7-11eb-a592-e7db0235bcc5</td>\n",
              "      <td>Stop by your manager’s office and bring up the...</td>\n",
              "      <td>Investigate ways to tackle the problem and tak...</td>\n",
              "      <td>Mention the problem to your coworker and see w...</td>\n",
              "      <td>Wait until the next team meeting to bring up t...</td>\n",
              "      <td>EPR_IAO_1_1</td>\n",
              "      <td>Decide that this task is not key for the proje...</td>\n",
              "      <td>Stay late at work until the work is completed.</td>\n",
              "      <td>Ask your teammate for assistance so the work h...</td>\n",
              "      <td>Ask for an extension on the project to ensure ...</td>\n",
              "      <td>EPR_IAO_1_2</td>\n",
              "      <td>Thank them for the opportunity for the work an...</td>\n",
              "      <td>Happily take on the task yourself, but mention...</td>\n",
              "      <td>Tell them you would love to help but ask about...</td>\n",
              "      <td>Suggest that they give it to another team memb...</td>\n",
              "      <td>EPR_IAO_1_3</td>\n",
              "      <td>5ff36bef033d7e0ed95194e7</td>\n",
              "    </tr>\n",
              "    <tr>\n",
              "      <th>2</th>\n",
              "      <td>5fef950d9b2a7b0017773f8d</td>\n",
              "      <td>384df770-50f7-11eb-a592-e7db0235bcc5</td>\n",
              "      <td>Complete a small portion of the work and then ...</td>\n",
              "      <td>Try to complete the work with the information ...</td>\n",
              "      <td>Consult with a coworker about what they would ...</td>\n",
              "      <td>Write an email to your manager that includes a...</td>\n",
              "      <td>AT_TA_1_1</td>\n",
              "      <td>Express your reservations by providing relevan...</td>\n",
              "      <td>Ask your manager what led to this decision and...</td>\n",
              "      <td>Express that you would appreciate some context...</td>\n",
              "      <td>Ask your manager what led to this decision and...</td>\n",
              "      <td>AT_TA_1_2</td>\n",
              "      <td>Approach the manager that you believe is respo...</td>\n",
              "      <td>Consider what the best course of action might ...</td>\n",
              "      <td>Vent to your coworker in the break room to pre...</td>\n",
              "      <td>Consider what may have led to this decision an...</td>\n",
              "      <td>AT_TA_1_3</td>\n",
              "      <td>5ff36bef033d7e0ed95194e7</td>\n",
              "    </tr>\n",
              "    <tr>\n",
              "      <th>3</th>\n",
              "      <td>5fef92f1fac0260017bd081c</td>\n",
              "      <td>7e720d40-50f7-11eb-a592-e7db0235bcc5</td>\n",
              "      <td>Wait for your scheduled check in with your tea...</td>\n",
              "      <td>Disregard this thought as you are already half...</td>\n",
              "      <td>Take the time to implement the new strategy as...</td>\n",
              "      <td>Disregard this thought as you prefer to follow...</td>\n",
              "      <td>GO_CI_1_1</td>\n",
              "      <td>Raise your questions about the product directi...</td>\n",
              "      <td>Write down questions about the proposed produc...</td>\n",
              "      <td>Ask the person beside you for the rationale fo...</td>\n",
              "      <td>Express your satisfaction to the team and move...</td>\n",
              "      <td>GO_CI_1_2</td>\n",
              "      <td>Go forward with the presentation and ask your ...</td>\n",
              "      <td>Ask your teammate to help co-deliver the prese...</td>\n",
              "      <td>Present your slides and book a slot in your te...</td>\n",
              "      <td>Postpone the presentation as it is better to d...</td>\n",
              "      <td>GO_CI_1_3</td>\n",
              "      <td>5ff36bef033d7e0ed95194e7</td>\n",
              "    </tr>\n",
              "    <tr>\n",
              "      <th>4</th>\n",
              "      <td>5fef94249b2a7b0017773f89</td>\n",
              "      <td>7e720d40-50f7-11eb-a592-e7db0235bcc5</td>\n",
              "      <td>Wait until the next team meeting to bring up t...</td>\n",
              "      <td>Mention the problem to your coworker and see w...</td>\n",
              "      <td>Stop by your manager’s office and bring up the...</td>\n",
              "      <td>Investigate ways to tackle the problem and tak...</td>\n",
              "      <td>EPR_IAO_1_1</td>\n",
              "      <td>Decide that this task is not key for the proje...</td>\n",
              "      <td>Ask for an extension on the project to ensure ...</td>\n",
              "      <td>Ask your teammate for assistance so the work h...</td>\n",
              "      <td>Stay late at work until the work is completed.</td>\n",
              "      <td>EPR_IAO_1_2</td>\n",
              "      <td>Happily take on the task yourself, but mention...</td>\n",
              "      <td>Tell them you would love to help but ask about...</td>\n",
              "      <td>Thank them for the opportunity for the work an...</td>\n",
              "      <td>Suggest that they give it to another team memb...</td>\n",
              "      <td>EPR_IAO_1_3</td>\n",
              "      <td>5ff36bef033d7e0ed95194e7</td>\n",
              "    </tr>\n",
              "  </tbody>\n",
              "</table>\n",
              "</div>"
            ],
            "text/plain": [
              "                 chapter_id  ...               pipeline_id\n",
              "0  5fef92f1fac0260017bd081c  ...  5ff36bef033d7e0ed95194e7\n",
              "1  5fef94249b2a7b0017773f89  ...  5ff36bef033d7e0ed95194e7\n",
              "2  5fef950d9b2a7b0017773f8d  ...  5ff36bef033d7e0ed95194e7\n",
              "3  5fef92f1fac0260017bd081c  ...  5ff36bef033d7e0ed95194e7\n",
              "4  5fef94249b2a7b0017773f89  ...  5ff36bef033d7e0ed95194e7\n",
              "\n",
              "[5 rows x 18 columns]"
            ]
          },
          "metadata": {
            "tags": []
          },
          "execution_count": 10
        }
      ]
    },
    {
      "cell_type": "code",
      "metadata": {
        "colab": {
          "base_uri": "https://localhost:8080/",
          "height": 166
        },
        "id": "VhipMcZFTfMH",
        "outputId": "68824795-fcd8-4b52-bde3-983e901b7e0b"
      },
      "source": [
        "data_transform.info()"
      ],
      "execution_count": 12,
      "outputs": [
        {
          "output_type": "error",
          "ename": "NameError",
          "evalue": "ignored",
          "traceback": [
            "\u001b[0;31m---------------------------------------------------------------------------\u001b[0m",
            "\u001b[0;31mNameError\u001b[0m                                 Traceback (most recent call last)",
            "\u001b[0;32m<ipython-input-12-3c9bc2948609>\u001b[0m in \u001b[0;36m<module>\u001b[0;34m()\u001b[0m\n\u001b[0;32m----> 1\u001b[0;31m \u001b[0mdata_transform\u001b[0m\u001b[0;34m.\u001b[0m\u001b[0minfo\u001b[0m\u001b[0;34m(\u001b[0m\u001b[0;34m)\u001b[0m\u001b[0;34m\u001b[0m\u001b[0;34m\u001b[0m\u001b[0m\n\u001b[0m",
            "\u001b[0;31mNameError\u001b[0m: name 'data_transform' is not defined"
          ]
        }
      ]
    },
    {
      "cell_type": "code",
      "metadata": {
        "id": "CbvaHNfQZXyd"
      },
      "source": [
        ""
      ],
      "execution_count": null,
      "outputs": []
    }
  ]
}